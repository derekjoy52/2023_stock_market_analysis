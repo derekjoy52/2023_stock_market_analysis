{
 "cells": [
  {
   "cell_type": "code",
   "execution_count": null,
   "id": "db80e01a-cd8f-4e0b-af57-2a82686173e2",
   "metadata": {},
   "outputs": [],
   "source": [
    "import logging\n",
    "\n",
    "def setup_logging():\n",
    "    #Configure logging\n",
    "    logging.basicConfig(\n",
    "        level=logging.INFO, #Set the logging level\n",
    "        format=\"%(asctime)s - %(levelname)s - %(message)s\", #Define log format\n",
    "        handlers=[\n",
    "            logging.FileHandler(\"app.log\"), #Log to a file\n",
    "            logging.StreamHandler() #Log to the console\n",
    "        ]\n",
    "    )\n",
    "    logging.info(\"Logging is configured.\")"
   ]
  }
 ],
 "metadata": {
  "kernelspec": {
   "display_name": "Python 3 (ipykernel)",
   "language": "python",
   "name": "python3"
  },
  "language_info": {
   "codemirror_mode": {
    "name": "ipython",
    "version": 3
   },
   "file_extension": ".py",
   "mimetype": "text/x-python",
   "name": "python",
   "nbconvert_exporter": "python",
   "pygments_lexer": "ipython3",
   "version": "3.9.19"
  }
 },
 "nbformat": 4,
 "nbformat_minor": 5
}
